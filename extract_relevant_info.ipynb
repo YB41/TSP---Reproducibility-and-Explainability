{
 "cells": [
  {
   "cell_type": "code",
   "execution_count": 1,
   "id": "a2323a19-2891-40eb-9c0d-585555eca6da",
   "metadata": {},
   "outputs": [],
   "source": [
    "import pandas as pd\n",
    "import json\n",
    "from pathlib import Path\n",
    "import os\n",
    "import shutil"
   ]
  },
  {
   "cell_type": "code",
   "execution_count": null,
   "id": "92af5cbb-aebb-4d6a-b0ba-0eb3d316668d",
   "metadata": {},
   "outputs": [],
   "source": [
    "def collect_metrics(self):\n",
    "    self.metrics = {}\n",
    "    for seed, _ in self.sorted_list_with_seed:\n",
    "        #print(seed)\n",
    "        with open(self.path + f'{self.lag}/{self.folder}/hitratio/{seed}', 'r') as hit_file:\n",
    "            self.top_hit = eval(json.load(hit_file))\n",
    "            if seed in self.metrics:\n",
    "                self.metrics[seed]['hit'].append(self.top_hit)\n",
    "            else:\n",
    "                self.metrics[seed] = {'hit': [self.top_hit], 'mse' : []}\n",
    "        # Add mse's\n",
    "        if seed in self.loaded_mse_of_models:\n",
    "            #print(self.loaded_mse_of_models[seed])\n",
    "            self.top_mse = self.loaded_mse_of_models[seed]\n",
    "            if seed in self.metrics:\n",
    "                self.metrics[seed]['mse'].append(self.top_mse)\n",
    "            else:\n",
    "                self.metrics[seed] = {'mse': [self.top_mse]}\n",
    "    \n",
    "    with open(self.path + f'{self.lag}/{self.folder}/statistics/top_metric.json', 'w') as f:\n",
    "        json.dump(self.metrics, f)"
   ]
  },
  {
   "cell_type": "markdown",
   "id": "a55f2984-6da0-41b1-aa48-9f7279347b67",
   "metadata": {},
   "source": [
    "# Copying relevant information from one folder to desired place. Removes large overhead - in case of low space."
   ]
  },
  {
   "cell_type": "code",
   "execution_count": 1,
   "id": "6d7a34d3-8c58-4831-8366-a640ff5f1fee",
   "metadata": {},
   "outputs": [],
   "source": [
    "dirpath = Path.cwd() / \"images\"\n",
    "backup_root = dirpath.parent / \"backup3\"\n",
    "\n",
    "for root, dirs, files in os.walk(dirpath, topdown=True):\n",
    "    root_path = Path(root)\n",
    "    # Comment this \"if\", if you want to create a backup of all the data\n",
    "    if \"saved_models\" in root:\n",
    "        dirs[:] = []  # Don't iterate into saved_models directories\n",
    "        continue\n",
    "    if \"hitratio\" in root:\n",
    "        dirs[:] = []  # Don't iterate into saved_models directories\n",
    "        continue\n",
    "    if \"TrainComparison\" in root:\n",
    "        dirs[:] = []  # Don't iterate into saved_models directories\n",
    "        continue\n",
    "    if \"TruePrediction\" in root:\n",
    "        dirs[:] = []  # Don't iterate into saved_models directories\n",
    "        continue\n",
    "\n",
    "\n",
    "    if \"PerformancePlots\" in root:\n",
    "        if \"Top-Model-PerformancePlots\" in root :\n",
    "                for file in files:\n",
    "                    relative_path = root_path.relative_to(dirpath)\n",
    "                    destination = backup_root / relative_path\n",
    "                    destination.mkdir(parents=True, exist_ok=True)\n",
    "                    shutil.copy(root_path / file, destination)\n",
    "                continue\n",
    "        dirs[:] = []  # Don't iterate into saved_models directories\n",
    "        continue\n",
    "\n",
    "    for file in files:\n",
    "        relative_path = root_path.relative_to(dirpath)\n",
    "        destination = backup_root / relative_path\n",
    "        destination.mkdir(parents=True, exist_ok=True)\n",
    "        shutil.copy(root_path / file, destination)\n"
   ]
  }
 ],
 "metadata": {
  "kernelspec": {
   "display_name": "Python 3 (ipykernel)",
   "language": "python",
   "name": "python3"
  },
  "language_info": {
   "codemirror_mode": {
    "name": "ipython",
    "version": 3
   },
   "file_extension": ".py",
   "mimetype": "text/x-python",
   "name": "python",
   "nbconvert_exporter": "python",
   "pygments_lexer": "ipython3",
   "version": "3.10.13"
  }
 },
 "nbformat": 4,
 "nbformat_minor": 5
}
