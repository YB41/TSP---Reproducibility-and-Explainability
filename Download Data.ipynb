{
 "cells": [
  {
   "cell_type": "markdown",
   "id": "8d0ee2678c63b11",
   "metadata": {
    "collapsed": false,
    "jupyter": {
     "outputs_hidden": false
    }
   },
   "source": [
    "# Download the data from YahooFinance \n",
    "For this we have to install yfinance"
   ]
  },
  {
   "cell_type": "code",
   "execution_count": 1,
   "id": "initial_id",
   "metadata": {
    "ExecuteTime": {
     "end_time": "2024-03-29T10:28:21.655934Z",
     "start_time": "2024-03-29T10:28:20.631157Z"
    },
    "editable": true,
    "slideshow": {
     "slide_type": ""
    },
    "tags": []
   },
   "outputs": [],
   "source": [
    "import yfinance as yf\n",
    "import os\n",
    "if not os.path.isdir(\"./data\"):\n",
    "    os.mkdir(\"./data\")"
   ]
  },
  {
   "cell_type": "markdown",
   "id": "95139123d879ac1a",
   "metadata": {
    "collapsed": false,
    "jupyter": {
     "outputs_hidden": false
    }
   },
   "source": [
    "Overview of the possible features that can be extracted with yfinance"
   ]
  },
  {
   "cell_type": "markdown",
   "id": "dc27163e-04c1-4246-b2d2-8746cc3ce2b8",
   "metadata": {},
   "source": [
    "# Big names in Tech"
   ]
  },
  {
   "cell_type": "code",
   "execution_count": 2,
   "id": "cc0a475b3a7e47de",
   "metadata": {
    "ExecuteTime": {
     "end_time": "2024-03-10T09:57:42.110112Z",
     "start_time": "2024-03-10T09:57:41.909153Z"
    },
    "collapsed": false,
    "jupyter": {
     "outputs_hidden": false
    }
   },
   "outputs": [],
   "source": [
    "msft = yf.Ticker(\"msft\")\n",
    "msft_hist = msft.history(start=\"2014-04-28\", end=\"2024-04-25\")\n",
    "msft_hist.to_csv(\"./data/msft_hist.csv\")"
   ]
  },
  {
   "cell_type": "code",
   "execution_count": 11,
   "id": "c5ef7ed3caa47909",
   "metadata": {
    "ExecuteTime": {
     "end_time": "2024-03-10T09:57:42.390358Z",
     "start_time": "2024-03-10T09:57:42.112127Z"
    },
    "collapsed": false,
    "jupyter": {
     "outputs_hidden": false
    }
   },
   "outputs": [],
   "source": [
    "nvda = yf.Ticker(\"NVDA\")\n",
    "nvda_hist = nvda.history(start=\"2014-04-28\", end=\"2024-04-25\")\n",
    "nvda_hist.to_csv(\"./data/nvda_hist.csv\")"
   ]
  },
  {
   "cell_type": "code",
   "execution_count": 12,
   "id": "593b3b6a-404b-42af-a461-3324b574d3bb",
   "metadata": {
    "ExecuteTime": {
     "end_time": "2024-03-10T09:57:42.390358Z",
     "start_time": "2024-03-10T09:57:42.112127Z"
    },
    "collapsed": false,
    "jupyter": {
     "outputs_hidden": false
    }
   },
   "outputs": [],
   "source": [
    "AAPL = yf.Ticker(\"AAPL\")\n",
    "AAPL = AAPL.history(start=\"2014-04-28\", end=\"2024-04-25\")\n",
    "AAPL.to_csv(\"./data/AAPL_hist.csv\")"
   ]
  },
  {
   "cell_type": "code",
   "execution_count": 13,
   "id": "73ce21aa-5117-49c0-9991-fe5e4d3c1d94",
   "metadata": {
    "ExecuteTime": {
     "end_time": "2024-03-10T09:57:42.390358Z",
     "start_time": "2024-03-10T09:57:42.112127Z"
    },
    "collapsed": false,
    "jupyter": {
     "outputs_hidden": false
    }
   },
   "outputs": [],
   "source": [
    "GOOG = yf.Ticker(\"GOOG\")\n",
    "GOOG = GOOG.history(start=\"2014-04-28\", end=\"2024-04-25\")\n",
    "GOOG.to_csv(\"./data/GOOG_hist.csv\")"
   ]
  },
  {
   "cell_type": "markdown",
   "id": "8a42ca4b-dc31-44a6-b9ad-cd746d7f7c2b",
   "metadata": {},
   "source": [
    "# Krypto"
   ]
  },
  {
   "cell_type": "code",
   "execution_count": 14,
   "id": "8579939cde005043",
   "metadata": {
    "ExecuteTime": {
     "end_time": "2024-03-10T09:57:42.583868Z",
     "start_time": "2024-03-10T09:57:42.391968Z"
    },
    "collapsed": false,
    "jupyter": {
     "outputs_hidden": false
    }
   },
   "outputs": [],
   "source": [
    "btc = yf.Ticker(\"BTC-USD\")\n",
    "btc_hist = btc.history(start=\"2014-09-17\", end=\"2024-04-26\")\n",
    "btc_hist.to_csv(\"./data/btc_hist.csv\")"
   ]
  },
  {
   "cell_type": "code",
   "execution_count": 15,
   "id": "3bfbe001690cf171",
   "metadata": {
    "ExecuteTime": {
     "end_time": "2024-03-10T09:57:42.759941Z",
     "start_time": "2024-03-10T09:57:42.585429Z"
    },
    "collapsed": false,
    "jupyter": {
     "outputs_hidden": false
    }
   },
   "outputs": [],
   "source": [
    "eth = yf.Ticker(\"ETH-USD\")\n",
    "eth_hist = eth.history(start=\"2017-11-09\", end=\"2024-04-26\")\n",
    "eth_hist.to_csv(\"./data/eth_hist.csv\")"
   ]
  },
  {
   "cell_type": "code",
   "execution_count": 16,
   "id": "e6f6198b62c77b69",
   "metadata": {
    "ExecuteTime": {
     "end_time": "2024-03-10T09:58:27.343212Z",
     "start_time": "2024-03-10T09:58:27.126297Z"
    },
    "collapsed": false,
    "jupyter": {
     "outputs_hidden": false
    }
   },
   "outputs": [],
   "source": [
    "shib = yf.Ticker(\"SHIB-USD\")\n",
    "shib_hist = shib.history(start=\"2020-08-01\", end=\"2024-04-26\")\n",
    "shib_hist.to_csv(\"./data/shib_hist.csv\")"
   ]
  },
  {
   "cell_type": "code",
   "execution_count": 30,
   "id": "fa266a86-778b-4943-a011-c1857603d7ba",
   "metadata": {
    "ExecuteTime": {
     "end_time": "2024-03-10T09:58:27.343212Z",
     "start_time": "2024-03-10T09:58:27.126297Z"
    },
    "collapsed": false,
    "jupyter": {
     "outputs_hidden": false
    }
   },
   "outputs": [],
   "source": [
    "DOGEUSD = yf.Ticker(\"DOGE-USD\")\n",
    "DOGEUSD = DOGEUSD.history(start=\"2017-11-09\", end=\"2024-04-26\")\n",
    "DOGEUSD.to_csv(\"./data/DOGE-USD_hist.csv\")"
   ]
  },
  {
   "cell_type": "markdown",
   "id": "e0043436-c689-49d0-964c-a9e4dfb4cbeb",
   "metadata": {},
   "source": [
    "# Stock Market Indexes"
   ]
  },
  {
   "cell_type": "code",
   "execution_count": 17,
   "id": "98fcef3719ade99e",
   "metadata": {
    "ExecuteTime": {
     "end_time": "2024-03-29T10:28:40.985206Z",
     "start_time": "2024-03-29T10:28:40.189654Z"
    },
    "collapsed": false,
    "jupyter": {
     "outputs_hidden": false
    }
   },
   "outputs": [],
   "source": [
    "smi = yf.Ticker(\"^SSMI\") \n",
    "smi_hist = smi.history(start=\"2014-04-28\", end=\"2024-04-26\")\n",
    "smi_hist.to_csv(\"./data/smi_hist.csv\")"
   ]
  },
  {
   "cell_type": "code",
   "execution_count": 18,
   "id": "9cb17b83-4365-43f0-8271-a10f1d74cfe0",
   "metadata": {
    "ExecuteTime": {
     "end_time": "2024-03-29T10:28:40.985206Z",
     "start_time": "2024-03-29T10:28:40.189654Z"
    },
    "collapsed": false,
    "jupyter": {
     "outputs_hidden": false
    }
   },
   "outputs": [],
   "source": [
    "GDAXI = yf.Ticker(\"^GDAXI\") \n",
    "GDAXI = GDAXI.history(start=\"2014-04-28\", end=\"2024-04-26\")\n",
    "GDAXI.to_csv(\"./data/DeutscherAktienIndex_hist.csv\")"
   ]
  },
  {
   "cell_type": "code",
   "execution_count": 19,
   "id": "640eb57e-8503-48ea-b1bc-8b57a73de4d4",
   "metadata": {
    "ExecuteTime": {
     "end_time": "2024-03-29T10:28:40.985206Z",
     "start_time": "2024-03-29T10:28:40.189654Z"
    },
    "collapsed": false,
    "jupyter": {
     "outputs_hidden": false
    }
   },
   "outputs": [],
   "source": [
    "DJI = yf.Ticker(\"^DJI\")\n",
    "DJI = DJI.history(start=\"2014-04-28\", end=\"2024-04-25\")\n",
    "DJI.to_csv(\"./data/Dow_Jones_hist.csv\")"
   ]
  },
  {
   "cell_type": "code",
   "execution_count": 20,
   "id": "24d25062-f252-4e7d-adae-70b8aa6a289a",
   "metadata": {
    "ExecuteTime": {
     "end_time": "2024-03-29T10:28:40.985206Z",
     "start_time": "2024-03-29T10:28:40.189654Z"
    },
    "collapsed": false,
    "jupyter": {
     "outputs_hidden": false
    }
   },
   "outputs": [],
   "source": [
    "IXIC = yf.Ticker(\"^IXIC\")\n",
    "IXIC = IXIC.history(start=\"2014-04-28\", end=\"2024-04-25\")\n",
    "IXIC.to_csv(\"./data/NASDAQ_hist.csv\")"
   ]
  },
  {
   "cell_type": "markdown",
   "id": "d90697d0-5e29-4c35-8a6b-a7b021dc2144",
   "metadata": {},
   "source": [
    "# Resources"
   ]
  },
  {
   "cell_type": "code",
   "execution_count": 21,
   "id": "17474f26c02cd901",
   "metadata": {
    "ExecuteTime": {
     "end_time": "2024-03-10T09:57:43.025593Z",
     "start_time": "2024-03-10T09:57:42.900022Z"
    },
    "collapsed": false,
    "jupyter": {
     "outputs_hidden": false
    }
   },
   "outputs": [],
   "source": [
    "#Gold\n",
    "xau = yf.Ticker(\"GC=F\")\n",
    "xau_hist = xau.history(start=\"2014-04-28\", end=\"2024-04-26\")\n",
    "xau_hist.to_csv(\"./data/gold_hist.csv\")"
   ]
  },
  {
   "cell_type": "code",
   "execution_count": 22,
   "id": "b98d8c70-96ef-4fe7-9ffb-4c1cda1d2024",
   "metadata": {},
   "outputs": [],
   "source": [
    "crude = yf.Ticker(\"CL=F\")\n",
    "crude = crude.history(start=\"2014-04-28\", end=\"2024-04-26\")\n",
    "crude.to_csv(\"./data/crude_oil.csv\")"
   ]
  },
  {
   "cell_type": "code",
   "execution_count": 23,
   "id": "0a814279-b1c6-49c2-99cf-4368e91473df",
   "metadata": {},
   "outputs": [],
   "source": [
    "brent = yf.Ticker(\"BZ=F\")\n",
    "brent = brent.history(start=\"2014-04-28\", end=\"2024-04-26\")\n",
    "brent.to_csv(\"./data/brent_oil.csv\")"
   ]
  },
  {
   "cell_type": "markdown",
   "id": "2d733e21-9e20-4bc6-8bdb-a2f64ff3156f",
   "metadata": {},
   "source": [
    "# Supermarket US"
   ]
  },
  {
   "cell_type": "code",
   "execution_count": 25,
   "id": "e9f299e4-5200-47e1-9305-27833b815a8c",
   "metadata": {},
   "outputs": [],
   "source": [
    "WMT = yf.Ticker(\"WMT\")\n",
    "WMT = WMT.history(start=\"2014-04-28\", end=\"2024-04-25\")\n",
    "WMT.to_csv(\"./data/walmart_SM.csv\")"
   ]
  },
  {
   "cell_type": "code",
   "execution_count": 26,
   "id": "5f937f3a-9973-4184-988a-5d5be865ef13",
   "metadata": {},
   "outputs": [],
   "source": [
    "COST = yf.Ticker(\"COST\")\n",
    "COST = COST.history(start=\"2014-04-28\", end=\"2024-04-25\")\n",
    "COST.to_csv(\"./data/costco_SM.csv\")"
   ]
  },
  {
   "cell_type": "markdown",
   "id": "5acc33b2-32fb-44dc-8a58-e101bf5c522c",
   "metadata": {},
   "source": [
    "# Supermarket EU or UK"
   ]
  },
  {
   "cell_type": "code",
   "execution_count": 27,
   "id": "e2d9e03f-240d-4115-8d28-20b8ff72e3d3",
   "metadata": {},
   "outputs": [],
   "source": [
    "CAPA = yf.Ticker(\"CA.PA\")\n",
    "CAPA = CAPA.history(start=\"2014-04-28\", end=\"2024-04-26\")\n",
    "CAPA.to_csv(\"./data/carrefour_SM.csv\")"
   ]
  },
  {
   "cell_type": "code",
   "execution_count": 28,
   "id": "a8828d3c-2686-48e0-8428-e10f3aaf3e82",
   "metadata": {},
   "outputs": [],
   "source": [
    "TSCOL = yf.Ticker(\"TSCO.L\")\n",
    "TSCOL = TSCOL.history(start=\"2014-04-28\", end=\"2024-04-26\")\n",
    "TSCOL.to_csv(\"./data/tesco_SM.csv\")"
   ]
  },
  {
   "cell_type": "code",
   "execution_count": null,
   "id": "cd14de54-c6f0-4090-8c01-73ac9aeb104b",
   "metadata": {},
   "outputs": [],
   "source": []
  }
 ],
 "metadata": {
  "kernelspec": {
   "display_name": "Python 3 (ipykernel)",
   "language": "python",
   "name": "python3"
  },
  "language_info": {
   "codemirror_mode": {
    "name": "ipython",
    "version": 3
   },
   "file_extension": ".py",
   "mimetype": "text/x-python",
   "name": "python",
   "nbconvert_exporter": "python",
   "pygments_lexer": "ipython3",
   "version": "3.12.3"
  }
 },
 "nbformat": 4,
 "nbformat_minor": 5
}
